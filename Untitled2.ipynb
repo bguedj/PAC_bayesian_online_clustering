{
 "cells": [
  {
   "cell_type": "markdown",
   "metadata": {},
   "source": [
    "PACo implementation on python"
   ]
  },
  {
   "cell_type": "code",
   "execution_count": 1,
   "metadata": {
    "collapsed": true
   },
   "outputs": [],
   "source": [
    "import pandas as pd\n",
    "import numpy as np\n",
    "from random import randint\n",
    "from sklearn.cluster import KMeans\n",
    "from sklearn.preprocessing import scale\n",
    "from math import *\n",
    "from scipy.stats import gamma\n",
    "import scipy.special as sp\n",
    "import matplotlib.pyplot as plt\n",
    "import matplotlib\n",
    "%matplotlib inline"
   ]
  },
  {
   "cell_type": "code",
   "execution_count": 2,
   "metadata": {
    "collapsed": true
   },
   "outputs": [],
   "source": [
    "### Funtions needed\n",
    "\n",
    "# Student's T random variable\n",
    "def multivariate_t_rvs(m, S, df=np.inf, n=1):\n",
    "    '''generate random variables of multivariate t distribution\n",
    "    Parameters\n",
    "    ----------\n",
    "    m : array_like\n",
    "        mean of random variable, length determines dimension of random variable\n",
    "    S : array_like\n",
    "        square array of covariance  matrix\n",
    "    df : int or float\n",
    "        degrees of freedom\n",
    "    n : int\n",
    "        number of observations, return random array will be (n, len(m))\n",
    "    Returns\n",
    "    -------\n",
    "    rvs : ndarray, (n, len(m))\n",
    "        each row is an independent draw of a multivariate t distributed\n",
    "        random variable\n",
    "    '''\n",
    "    m = np.asarray(m)\n",
    "    d = len(m)\n",
    "    if df == np.inf:\n",
    "        x = 1.\n",
    "    else:\n",
    "        x = np.random.chisquare(df, n)/df\n",
    "    z = np.random.multivariate_normal(np.zeros(d),S,(n,))\n",
    "    return m + z/np.sqrt(x)[:,None]   # same output format as random.multivariate_normal\n",
    "\n",
    "\n",
    "def multivariate_t_distribution(x, mu, Sigma, df):\n",
    "    '''\n",
    "    Multivariate t-student density. Returns the density\n",
    "    of the function at points specified by x.\n",
    "\n",
    "    input:\n",
    "        x = parameter (n-d numpy array; will be forced to 2d)\n",
    "        mu = mean (d dimensional numpy array)\n",
    "        Sigma = scale matrix (dxd numpy array)\n",
    "        df = degrees of freedom\n",
    "\n",
    "    Edited from: http://stackoverflow.com/a/29804411/3521179\n",
    "    '''\n",
    "\n",
    "    x = np.atleast_2d(x) # requires x as 2d\n",
    "    nD = Sigma.shape[0] # dimensionality\n",
    "    numerator = sp.gamma(1.0 * (nD + df) / 2.0)\n",
    "    denominator = (sp.gamma(1.0 * df / 2.0) * np.power(df * np.pi, 1.0 * nD / 2.0) * np.power(np.linalg.det(Sigma), 1.0 / 2.0) * np.power(1.0 + (1.0 / df) * np.diagonal( np.dot( np.dot(x - mu, np.linalg.inv(Sigma)), (x - mu).T)), 1.0 * (nD + df) / 2.0))\n",
    "    \n",
    "    return 1.0 * numerator / denominator \n",
    "\n",
    "# Cumulative loss function\n",
    "def cumulative_loss(centers, observations):\n",
    "    d = observations.shape[1]\n",
    "    lth_centers = len(centers)\n",
    "    size_obs = len(observations)\n",
    "    C_mtx = np.array([centers for i in range(size_obs)])\n",
    "    Data_mtx = []\n",
    "    for i in range(size_obs):\n",
    "        Data_mtx.append(np.reshape(np.repeat(observations[i,:], lth_centers), newshape=(-1, lth_centers)).transpose())\n",
    "    Data_mtx = np.array(Data_mtx)\n",
    "    Diff = np.sum((C_mtx - Data_mtx)**2, axis=-1)\n",
    "    return sum(np.min(Diff,axis = 1))\n",
    "\n",
    "# Transition probability function\n",
    "def transition_probability(x, z, K_max, prob = 1/3):\n",
    "    x = int(x)\n",
    "    z = int(z)\n",
    "    K_max = int(K_max)\n",
    "    if (x > K_max) or (z > K_max) or (x < 1) or (z < 1):\n",
    "        q = 0\n",
    "    elif x == 1:\n",
    "        q = .5*int((z == 1) or (z == 2))\n",
    "    elif x == K_max:\n",
    "        q = 0.5*int((z == K_max) or (z == (K_max-1)))\n",
    "    elif x == z:\n",
    "        q = prob\n",
    "    else:\n",
    "        q = (1-prob)/2 * int(( x < z and z < (x+2)) or (z < x and z > (x-2)))\n",
    "    return q\n",
    "\n",
    "# Function to get clusters labels from centroids\n",
    "def labels_function(centers, observations):\n",
    "    if centers.ndim == 1:\n",
    "        centers = np.matrix(centers)\n",
    "    d = observations.shape[1]\n",
    "    lth_centers = centers.shape[0]\n",
    "    size_obs = len(observations)\n",
    "    C_mtx = []\n",
    "    for i in range(size_obs):\n",
    "        C_mtx.append(centers)\n",
    "    C_mtx = np.array(C_mtx)\n",
    "    Data_mtx = []\n",
    "    for i in range(size_obs):\n",
    "        Data_mtx.append(np.reshape(np.repeat(observations[i,:], lth_centers), newshape=(-1, lth_centers)).transpose())\n",
    "    Data_mtx = np.array(Data_mtx)\n",
    "    Diff = np.sum((C_mtx - Data_mtx)**2, axis=-1)\n",
    "    return np.apply_along_axis(lambda x: np.where(x==min(x)), 1, Diff).ravel()\n",
    "\n",
    "# Function for the prior\n",
    "def runiform_ball(n, d, R):\n",
    "    simulations = []\n",
    "    for i in range(n):\n",
    "        simul = np.random.uniform(low=-R, high=R, size=d)\n",
    "        while np.sqrt(sum(simul**2))>R:\n",
    "            simul = np.random.uniform(low=-R, high=R, size=d)\n",
    "        simulations.append(simul)\n",
    "    return np.array(simulations)\n",
    "\n",
    "# Function for the instantaneous loss\n",
    "def instantaneous_loss(centers, instant_observation):\n",
    "    centers = np.matrix(centers) #Delete this line\n",
    "    replicate_instant_observation = np.reshape(np.matrix(np.repeat(instant_observation, len(centers))), newshape=(-1,len(centers))).transpose()\n",
    "    distances = np.power(centers - replicate_instant_observation, 2).sum(axis=1)\n",
    "    return np.min(distances)"
   ]
  },
  {
   "cell_type": "code",
   "execution_count": null,
   "metadata": {
    "collapsed": true
   },
   "outputs": [],
   "source": [
    "def PACBO(X, R, coeff = 2, K_max = 50, N_iterations = 500, cluster_plot = False, axis_plot = (0,1)):\n",
    "    \n",
    "    d = X.shape[1]\n",
    "    T = len(X)\n",
    "    sum_loss = np.repeat(0., N_iterations)\n",
    "    \n",
    "    # IF \n",
    "    \n",
    "    log_prob_acceptance = [0]\n",
    "    nb_of_clusters = [1]\n",
    "    pred_centers = []\n",
    "    labels = [np.array([0])]\n",
    "    predicted_loss = np.repeat(0., T)\n",
    "    proposal_loss = np.repeat(0., T)\n",
    "    \n",
    "    lambda_1 = np.array([1] + [0.6*(d+2)/(2*np.sqrt(t)) for t in range(2,T+1)])\n",
    "    \n",
    "    c_1 = runiform_ball(5000, d, R)\n",
    "    \n",
    "    index_1 = np.array(np.power(c_1 - np.reshape(np.matrix(np.repeat(X[0], 5000)), newshape=(-1,5000)).transpose(), 2).sum(axis=1)).ravel()\n",
    "    index_1 = np.where(index_1 == instantaneous_loss(c_1, X[0]))[0][0]\n",
    "    pred_centers.append(np.matrix(c_1[index_1]))\n",
    "    predicted_loss[0] = instantaneous_loss(pred_centers[0], X[0])\n",
    "    \n",
    "    for t in range(2,T+1): # t va de 2 à 10\n",
    "        print(t/T)\n",
    "        parameter_means_proposal = []\n",
    "        Niter_centers = []\n",
    "        Nclusters = []\n",
    "        \n",
    "        tau_proposal = (K_max*t)**(-0.5)\n",
    "        \n",
    "        Nclusters.append(nb_of_clusters[t-2])\n",
    "        kmeans = KMeans(n_clusters=Nclusters[0], random_state=0, max_iter=10).fit(X[:t-1])\n",
    "        parameter_means_proposal.append(kmeans.cluster_centers_)\n",
    "        \n",
    "        Niter_centers.append(np.apply_along_axis(lambda x: multivariate_t_rvs(x, np.diag([tau_proposal for i in range(d)]), df=3, n=1)[0], 1, parameter_means_proposal[0]))\n",
    "\n",
    "        while sum(np.sqrt(np.sum(np.power(Niter_centers[0],2),axis = 1)) > multiplier_R * R) > 0:\n",
    "            Niter_centers[0] = np.apply_along_axis(lambda x: multivariate_t_rvs(x, np.diag([tau_proposal for i in range(d)]), df=3, n=1)[0], 1, parameter_means_proposal[0])\n",
    "\n",
    "\n",
    "        proposal_loss[:t-1] = list(np.apply_along_axis(lambda x: instantaneous_loss(Niter_centers[0], x), 1, X[:t-1]))\n",
    "        \n",
    "        sum_loss[0] = sum(proposal_loss[:(t-1)]) + 0.5 * sum(lambda_2 * (proposal_loss - predicted_loss)**2)\n",
    "        \n",
    "        for n in range(2,N_iterations+1): # n va de 2 à 500\n",
    "            proposal_loss_temp = np.repeat(0., T)\n",
    "            transition_prob = np.array([transition_probability(Nclusters[n-2],Nclusters[n-2]-1,K_max), transition_probability(Nclusters[n-2],Nclusters[n-2],K_max), transition_probability(Nclusters[n-2],Nclusters[n-2]+1,K_max)])\n",
    "            transition_prob = transition_prob/sum(transition_prob)\n",
    "            new_k = np.random.choice([Nclusters[n-2]-1,Nclusters[n-2],Nclusters[n-2]+1], p=transition_prob)\n",
    "            \n",
    "            if new_k == Nclusters[n-2]:\n",
    "                m_t = parameter_means_proposal[n-2]\n",
    "            else:\n",
    "                if new_k >= t-1:\n",
    "                    new_k = t-1\n",
    "                    m_t = X[:t-1]\n",
    "                else:\n",
    "                    kmeans = KMeans(n_clusters=int(new_k), random_state=0, max_iter=10).fit(X[:t-1])\n",
    "                    m_t = kmeans.cluster_centers_\n",
    "            c_k_prime = np.apply_along_axis(lambda x: multivariate_t_rvs(x, np.diag([tau_proposal for i in range(d)]), df=3, n=1), 1, m_t)\n",
    "            \n",
    "            if sum(np.sqrt(np.sum(c_k_prime**2, axis = 1)) < multiplier_R * R ) == new_k: \n",
    "                log_numerator_prop = np.array([np.log(multivariate_t_distribution(Niter_centers[n-2][x,], parameter_means_proposal[n-2][x,], np.diag([tau_proposal for i in range(d)]), 3)) for x in range(Nclusters[n-2])])\n",
    "                log_denominator_prop = np.array([np.log(multivariate_t_distribution(c_k_prime[x,], m_t[x,], np.diag([tau_proposal for i in range(d)]), 3)) for x in range(new_k)])    \n",
    "                \n",
    "                log_numerator_prior = np.repeat(log(sp.gamma(d/2+1)) - (d/2)*np.log(pi) - d*np.log(multiplier_R*R),new_k)\n",
    "                log_denominator_prior = np.repeat(log(sp.gamma(d/2+1)) - (d/2)*np.log(pi) - d*np.log(multiplier_R*R),Nclusters[n-2])\n",
    "                \n",
    "                ln_division = sum(np.concatenate((log_numerator_prior, log_numerator_prop.ravel())) - np.concatenate((log_denominator_prior, log_denominator_prop.ravel())))\n",
    "                \n",
    "                proposal_loss_temp[:t-1] = list(np.apply_along_axis(lambda x: instantaneous_loss(c_k_prime, x), 1, X[:t-1]))\n",
    "                \n",
    "                s_loss_prime = sum(proposal_loss_temp) + .5 * sum(lambda_2 * (proposal_loss_temp - predicted_loss)**2)\n",
    "                \n",
    "                ln_accept_ratio = (-lambda_1[t-2] * (s_loss_prime-sum_loss[n-2])) + ln_division + np.log(transition_probability(new_k, Nclusters[n-2],K_max)) - np.log(transition_probability(Nclusters[n-2], new_k, K_max))\n",
    "            else:\n",
    "                ln_accept_ratio = float('-inf')\n",
    "            \n",
    "            bool_ = np.log(np.random.uniform()) < ln_accept_ratio\n",
    "            \n",
    "            if bool_:\n",
    "                Niter_centers.append(np.array(np.matrix(c_k_prime)))\n",
    "                parameter_means_proposal.append(m_t)\n",
    "                Nclusters.append(new_k)\n",
    "                sum_loss[n-1] = s_loss_prime\n",
    "            else:\n",
    "                Niter_centers.append(Niter_centers[n-2])\n",
    "                parameter_means_proposal.append(parameter_means_proposal[n-2])\n",
    "                Nclusters.append(Nclusters[n-2])\n",
    "                sum_loss[n-1] = sum_loss[n-2]\n",
    "        \n",
    "        log_prob_acceptance.append(ln_accept_ratio)\n",
    "        nb_of_clusters.append(Nclusters[N_iterations-1])\n",
    "        pred_centers.append(np.matrix(Niter_centers[N_iterations-1]))\n",
    "        predicted_loss[t-1] = instantaneous_loss(pred_centers[t-2], X[t-1,])\n",
    "        labels.append(labels_function(pred_centers[t-1], X[:t,:]))\n",
    "        \n",
    "        if cluster_plot:\n",
    "        # Plot clusters\n",
    "            plt.scatter(X[:t,axis_plot[0]],X[:t,axis_plot[1]], c=[matplotlib.cm.spectral(float(i) /10) for i in labels_function(pred_centers[t-1], X[:t,:])])\n",
    "            plt.scatter(np.array(pred_centers[t-1][:,axis_plot[0]]),np.array(pred_centers[t-1][:,axis_plot[1]]), marker=\"2\", c = \"green\")\n",
    "            plt.show()\n",
    "            \n",
    "    #labels = labels_function(pred_centers[T-1], X)\n",
    "    return nb_of_clusters, pred_centers, labels, predicted_loss, log_prob_acceptance\n",
    "    #return [nb_of_clusters[T-1], pred_centers[T-1], labels]"
   ]
  },
  {
   "cell_type": "code",
   "execution_count": 3,
   "metadata": {
    "collapsed": true
   },
   "outputs": [],
   "source": [
    "d=2\n",
    "\n",
    "m_1= [0,0]\n",
    "m_2 = [-4, -1]\n",
    "m_3 = [0, 7]\n",
    "m_4 = [5, 2]\n",
    "\n",
    "list_mean = [m_1, m_2, m_3, m_4]\n",
    "\n",
    "mydata = np.random.multivariate_normal(mean = list_mean[np.asscalar(np.random.choice(len(list_mean), 1))], cov= np.identity(d), size = 1)\n",
    "\n",
    "for k in range(1000-1):\n",
    "    mydata = np.vstack([mydata, np.random.multivariate_normal(mean = list_mean[np.asscalar(np.random.choice(len(list_mean), 1))], cov= np.identity(d), size = 1)])\n",
    "\n",
    "R = np.max(np.sqrt(np.sum(mydata**2, axis=1)))"
   ]
  },
  {
   "cell_type": "code",
   "execution_count": 9,
   "metadata": {},
   "outputs": [],
   "source": [
    "X = mydata\n",
    "d = X.shape[1]\n",
    "T = len(X)\n",
    "\n",
    "lambda_1 = np.array([1] + [0.6*(d+2)/(2*np.sqrt(t)) for t in range(2,T+1)])\n",
    "    \n",
    "    "
   ]
  },
  {
   "cell_type": "code",
   "execution_count": 16,
   "metadata": {},
   "outputs": [
    {
     "data": {
      "text/plain": [
       "matrix([[ 0.12623907,  0.12623907,  0.12623907, ..., -0.54370002,\n",
       "         -0.54370002, -0.54370002]])"
      ]
     },
     "execution_count": 16,
     "metadata": {},
     "output_type": "execute_result"
    }
   ],
   "source": [
    "np.matrix(np.repeat(mydata[0], 5000))"
   ]
  },
  {
   "cell_type": "code",
   "execution_count": 19,
   "metadata": {},
   "outputs": [
    {
     "data": {
      "text/plain": [
       "(10000,)"
      ]
     },
     "execution_count": 19,
     "metadata": {},
     "output_type": "execute_result"
    }
   ],
   "source": [
    "np.repeat(mydata[0], 5000).shape"
   ]
  },
  {
   "cell_type": "code",
   "execution_count": 20,
   "metadata": {},
   "outputs": [
    {
     "data": {
      "text/plain": [
       "(2,)"
      ]
     },
     "execution_count": 20,
     "metadata": {},
     "output_type": "execute_result"
    }
   ],
   "source": [
    "index_1 = np.array(np.power(c_1 - np.reshape(np.matrix(np.repeat(X[0], 5000)), newshape=(-1,5000)).transpose(), 2).sum(axis=1)).ravel()"
   ]
  },
  {
   "cell_type": "code",
   "execution_count": 24,
   "metadata": {},
   "outputs": [
    {
     "data": {
      "text/plain": [
       "matrix([[ 0.12623907, -0.54370002],\n",
       "        [ 0.12623907, -0.54370002],\n",
       "        [ 0.12623907, -0.54370002],\n",
       "        ..., \n",
       "        [ 0.12623907, -0.54370002],\n",
       "        [ 0.12623907, -0.54370002],\n",
       "        [ 0.12623907, -0.54370002]])"
      ]
     },
     "execution_count": 24,
     "metadata": {},
     "output_type": "execute_result"
    }
   ],
   "source": [
    "np.reshape(np.matrix(np.repeat(X[0], 5000)), newshape=(-1,5000)).transpose()"
   ]
  },
  {
   "cell_type": "code",
   "execution_count": 22,
   "metadata": {
    "collapsed": true
   },
   "outputs": [],
   "source": [
    "c_1 = runiform_ball(5000, d, R)"
   ]
  },
  {
   "cell_type": "code",
   "execution_count": 23,
   "metadata": {},
   "outputs": [
    {
     "data": {
      "text/plain": [
       "array([[-2.86352881, -2.65533857],\n",
       "       [-0.93760706,  8.20105917],\n",
       "       [ 4.61398679, -0.96679066],\n",
       "       ..., \n",
       "       [-5.76817366, -7.72760313],\n",
       "       [ 4.23832418,  1.93272366],\n",
       "       [-9.82318482,  1.06181756]])"
      ]
     },
     "execution_count": 23,
     "metadata": {},
     "output_type": "execute_result"
    }
   ],
   "source": [
    "c_1"
   ]
  }
 ],
 "metadata": {
  "kernelspec": {
   "display_name": "Python 3",
   "language": "python",
   "name": "python3"
  },
  "language_info": {
   "codemirror_mode": {
    "name": "ipython",
    "version": 3
   },
   "file_extension": ".py",
   "mimetype": "text/x-python",
   "name": "python",
   "nbconvert_exporter": "python",
   "pygments_lexer": "ipython3",
   "version": "3.6.3"
  }
 },
 "nbformat": 4,
 "nbformat_minor": 2
}
