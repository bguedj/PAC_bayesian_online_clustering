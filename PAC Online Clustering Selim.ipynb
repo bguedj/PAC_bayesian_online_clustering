{
 "cells": [
  {
   "cell_type": "markdown",
   "metadata": {},
   "source": [
    "PAC"
   ]
  },
  {
   "cell_type": "code",
   "execution_count": 1,
   "metadata": {},
   "outputs": [
    {
     "data": {
      "text/html": [
       "<iframe id=\"igraph\" scrolling=\"no\" style=\"border:none;\" seamless=\"seamless\" src=\"https://plot.ly/~selim.dekali/2.embed\" height=\"525px\" width=\"100%\"></iframe>"
      ],
      "text/plain": [
       "<plotly.tools.PlotlyDisplay object>"
      ]
     },
     "execution_count": 1,
     "metadata": {},
     "output_type": "execute_result"
    }
   ],
   "source": [
    "import plotly.plotly as py\n",
    "import plotly.graph_objs as go\n",
    "\n",
    "trace1 = go.Scatter(x=[1,2,3], y=[4,5,6], marker={'color': 'red', 'symbol': 104, 'size': \"10\"}, \n",
    "                    mode=\"markers+lines\",  text=[\"one\",\"two\",\"three\"], name='1st Trace')\n",
    "                                               \n",
    "data=go.Data([trace1])\n",
    "layout=go.Layout(title=\"First Plot\", xaxis={'title':'x1'}, yaxis={'title':'x2'})\n",
    "figure=go.Figure(data=data,layout=layout)\n",
    "py.iplot(figure, filename='pyguide_1')"
   ]
  },
  {
   "cell_type": "code",
   "execution_count": 2,
   "metadata": {},
   "outputs": [
    {
     "data": {
      "text/html": [
       "<iframe id=\"igraph\" scrolling=\"no\" style=\"border:none;\" seamless=\"seamless\" src=\"https://plot.ly/~selim.dekali/4.embed\" height=\"525px\" width=\"100%\"></iframe>"
      ],
      "text/plain": [
       "<plotly.tools.PlotlyDisplay object>"
      ]
     },
     "execution_count": 2,
     "metadata": {},
     "output_type": "execute_result"
    }
   ],
   "source": [
    "\n",
    "figure.update(dict(layout=dict(title='Plot update'), data=dict(marker=dict(color='blue'))))\n",
    "py.iplot(figure, filename='pyguide_2')"
   ]
  },
  {
   "cell_type": "code",
   "execution_count": 3,
   "metadata": {},
   "outputs": [
    {
     "data": {
      "text/plain": [
       "[{'marker': {'color': 'red', 'size': '10', 'symbol': 104},\n",
       "  'mode': 'markers+lines',\n",
       "  'name': '1st Trace',\n",
       "  'text': ['one', 'two', 'three'],\n",
       "  'type': 'scatter',\n",
       "  'x': [1, 2, 3],\n",
       "  'y': [4, 5, 6]}]"
      ]
     },
     "execution_count": 3,
     "metadata": {},
     "output_type": "execute_result"
    }
   ],
   "source": [
    "data"
   ]
  },
  {
   "cell_type": "code",
   "execution_count": 4,
   "metadata": {},
   "outputs": [
    {
     "data": {
      "text/plain": [
       "{'marker': {'color': 'red', 'size': '10', 'symbol': 104},\n",
       " 'mode': 'markers+lines',\n",
       " 'text': ['one', 'two', 'three'],\n",
       " 'type': 'scatter',\n",
       " 'x': [1, 2, 3],\n",
       " 'y': [4, 5, 6]}"
      ]
     },
     "execution_count": 4,
     "metadata": {},
     "output_type": "execute_result"
    }
   ],
   "source": [
    "go.Scatter(x=[1,2,3], y=[4,5,6], marker={'color': 'red', 'symbol': 104, 'size': \"10\"}, \n",
    "                                               mode=\"markers+lines\",  text=[\"one\",\"two\",\"three\"])"
   ]
  },
  {
   "cell_type": "code",
   "execution_count": 6,
   "metadata": {
    "collapsed": true
   },
   "outputs": [],
   "source": [
    "import numpy as np\n",
    "import matplotlib.pyplot as plt\n",
    "from matplotlib.animation import FuncAnimation\n",
    "\n"
   ]
  },
  {
   "cell_type": "code",
   "execution_count": 8,
   "metadata": {},
   "outputs": [
    {
     "data": {
      "image/png": "[encoded data removed]",
      "text/plain": [
       "<matplotlib.figure.Figure at 0x2b076757b70>"
      ]
     },
     "metadata": {},
     "output_type": "display_data"
    }
   ],
   "source": [
    "fig, ax = plt.subplots()\n",
    "xdata, ydata = [], []\n",
    "ln, = plt.plot([], [], 'ro', animated=True)\n",
    "\n",
    "def init():\n",
    "    ax.set_xlim(0, 2*np.pi)\n",
    "    ax.set_ylim(-1, 1)\n",
    "    return ln,\n",
    "\n",
    "def update(frame):\n",
    "    xdata.append(frame)\n",
    "    ydata.append(np.sin(frame))\n",
    "    ln.set_data(xdata, ydata)\n",
    "    return ln,\n",
    "\n",
    "ani = FuncAnimation(fig, update, frames=np.linspace(0, 2*np.pi, 128), init_func=init, blit=True)\n",
    "plt.show()"
   ]
  },
  {
   "cell_type": "code",
   "execution_count": 9,
   "metadata": {},
   "outputs": [
    {
     "data": {
      "text/plain": [
       "'https://plot.ly/~selim.dekali/6/'"
      ]
     },
     "execution_count": 9,
     "metadata": {},
     "output_type": "execute_result"
    }
   ],
   "source": [
    "import plotly.plotly as py\n",
    "from plotly.grid_objs import Grid, Column\n",
    "\n",
    "import time\n",
    "\n",
    "column_1 = Column([0.5], 'x')\n",
    "column_2 = Column([0.5], 'y')\n",
    "column_3 = Column([1.5], 'x2')\n",
    "column_4 = Column([1.5], 'y2')\n",
    "\n",
    "grid = Grid([column_1, column_2, column_3, column_4])\n",
    "py.grid_ops.upload(grid, 'ping_pong_grid'+str(time.time()), auto_open=False)"
   ]
  },
  {
   "cell_type": "code",
   "execution_count": 10,
   "metadata": {},
   "outputs": [
    {
     "data": {
      "text/html": [
       "<iframe id=\"igraph\" scrolling=\"no\" style=\"border:none;\" seamless=\"seamless\" src=\"https://plot.ly/~selim.dekali/7.embed\" height=\"525px\" width=\"100%\"></iframe>"
      ],
      "text/plain": [
       "<plotly.tools.PlotlyDisplay object>"
      ]
     },
     "execution_count": 10,
     "metadata": {},
     "output_type": "execute_result"
    }
   ],
   "source": [
    "figure = {\n",
    "    'data': [\n",
    "        {\n",
    "            'xsrc': grid.get_column_reference('x'),\n",
    "            'ysrc': grid.get_column_reference('y'),\n",
    "            'mode': 'markers',\n",
    "        }\n",
    "    ],\n",
    "    'layout': {'title': 'Ping Pong Animation',\n",
    "               'xaxis': {'range': [0, 2], 'autorange': False},\n",
    "               'yaxis': {'range': [0, 2], 'autorange': False},\n",
    "               'updatemenus': [{\n",
    "                   'buttons': [\n",
    "                       {'args': [None],\n",
    "                        'label': 'Play',\n",
    "                        'method': 'animate'}\n",
    "               ],\n",
    "               'pad': {'r': 10, 't': 87},\n",
    "               'showactive': False,\n",
    "               'type': 'buttons'\n",
    "                }]},\n",
    "    'frames': [\n",
    "        {\n",
    "            'data': [\n",
    "                {\n",
    "                    'xsrc': grid.get_column_reference('x2'),\n",
    "                    'ysrc': grid.get_column_reference('y2'),\n",
    "                    'mode': 'markers',\n",
    "                }\n",
    "            ]\n",
    "        },\n",
    "        {\n",
    "            'data': [\n",
    "                {\n",
    "                    'xsrc': grid.get_column_reference('x'),\n",
    "                    'ysrc': grid.get_column_reference('y'),\n",
    "                    'mode': 'markers',\n",
    "                }\n",
    "            ]\n",
    "        }\n",
    "    ]\n",
    "}\n",
    "\n",
    "py.icreate_animations(figure, 'ping_pong'+str(time.time()))"
   ]
  },
  {
   "cell_type": "code",
   "execution_count": null,
   "metadata": {
    "collapsed": true
   },
   "outputs": [],
   "source": []
  },
  {
   "cell_type": "code",
   "execution_count": null,
   "metadata": {
    "collapsed": true
   },
   "outputs": [],
   "source": []
  },
  {
   "cell_type": "code",
   "execution_count": null,
   "metadata": {
    "collapsed": true
   },
   "outputs": [],
   "source": []
  },
  {
   "cell_type": "code",
   "execution_count": null,
   "metadata": {
    "collapsed": true
   },
   "outputs": [],
   "source": []
  }
 ],
 "metadata": {
  "kernelspec": {
   "display_name": "Python 3",
   "language": "python",
   "name": "python3"
  },
  "language_info": {
   "codemirror_mode": {
    "name": "ipython",
    "version": 3
   },
   "file_extension": ".py",
   "mimetype": "text/x-python",
   "name": "python",
   "nbconvert_exporter": "python",
   "pygments_lexer": "ipython3",
   "version": "3.6.3"
  }
 },
 "nbformat": 4,
 "nbformat_minor": 2
}
